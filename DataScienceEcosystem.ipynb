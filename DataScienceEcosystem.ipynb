{
  "metadata": {
    "kernelspec": {
      "name": "python",
      "display_name": "Python (Pyodide)",
      "language": "python"
    },
    "language_info": {
      "codemirror_mode": {
        "name": "python",
        "version": 3
      },
      "file_extension": ".py",
      "mimetype": "text/x-python",
      "name": "python",
      "nbconvert_exporter": "python",
      "pygments_lexer": "ipython3",
      "version": "3.8"
    }
  },
  "nbformat_minor": 5,
  "nbformat": 4,
  "cells": [
    {
      "id": "3927cbc7-1521-45e6-ad6b-deef3d6b3212",
      "cell_type": "markdown",
      "source": "# Data Science Tools and Ecosystem",
      "metadata": {}
    },
    {
      "id": "dc817a3e-4910-4570-8f2a-5401a4a96140",
      "cell_type": "markdown",
      "source": "In this notebook, Data Science Tools and Ecosystem are summarized.",
      "metadata": {}
    },
    {
      "id": "f47bb3d7-ce44-4ac8-b3c8-44da3f9ad1a8",
      "cell_type": "markdown",
      "source": "Objectives:\n- List popular languages for Data Science\n- List commonly used libraries used by Data Scientists\n- List development environment open source tools used by Data Scientists\n- Evaluate arithmetic expressions in Python",
      "metadata": {}
    },
    {
      "id": "803f10dd-6998-4d57-b3db-7e3b8f530839",
      "cell_type": "markdown",
      "source": "Some of the popular languages that Data Scientists use are:\n1. Python\n2. R\n3. SQL",
      "metadata": {}
    },
    {
      "id": "5b5bbf5a-c00c-4b59-bb2a-ed72eaef7737",
      "cell_type": "markdown",
      "source": "Some of the commonly used libraries used by Data Scientists include:\n1. NumPy\n2. Scikit-Learn\n3. Matplotlib",
      "metadata": {}
    },
    {
      "id": "5ac24c8f-0255-44f9-802e-4cf600420adc",
      "cell_type": "markdown",
      "source": "| Data Science Tools |\n| -------------|\n| Jupyter Notebooks |\n| Apache Spark | \n| TensorFLow |",
      "metadata": {}
    },
    {
      "id": "516823fc-8638-44b4-9735-8bffc128f2d1",
      "cell_type": "markdown",
      "source": "### Below are a few examples of evaluating arithmetic expressions in Python",
      "metadata": {}
    },
    {
      "id": "9b5927ad-0f5e-498a-96f4-f0617093f8e1",
      "cell_type": "code",
      "source": "# This a simple arithmetic expression to mutiply then add integers\n(3*4)+5",
      "metadata": {
        "trusted": true
      },
      "outputs": [
        {
          "execution_count": 1,
          "output_type": "execute_result",
          "data": {
            "text/plain": "17"
          },
          "metadata": {}
        }
      ],
      "execution_count": 1
    },
    {
      "id": "1ac44384-37a4-4ed1-8d51-1d8c796a7b72",
      "cell_type": "code",
      "source": "# This will convert 200 minutes to hours by diving by 60\nx = 200\ny = x/60\nprint(y)",
      "metadata": {
        "trusted": true
      },
      "outputs": [
        {
          "name": "stdout",
          "output_type": "stream",
          "text": "3.3333333333333335\n"
        }
      ],
      "execution_count": 2
    },
    {
      "id": "79c5cb90-433c-428a-abca-d91688f40253",
      "cell_type": "markdown",
      "source": "",
      "metadata": {}
    }
  ]
}